{
 "cells": [
  {
   "cell_type": "code",
   "execution_count": 7,
   "metadata": {},
   "outputs": [],
   "source": [
    "from lumibot.brokers import Alpaca\n",
    "from lumibot.backtesting import YahooDataBacktesting\n",
    "from lumibot.strategies.strategy import Strategy\n",
    "from lumibot.traders import Trader\n",
    "from datetime import datetime \n",
    "from alpaca_trade_api import REST \n",
    "from timedelta import Timedelta \n",
    "from finbert_utils import estimate_sentiment\n",
    "from transformers import AutoTokenizer, AutoModelForSequenceClassification\n",
    "import torch\n",
    "from typing import Tuple \n",
    "import os\n",
    "from dotenv import load_dotenv"
   ]
  },
  {
   "cell_type": "code",
   "execution_count": 8,
   "metadata": {},
   "outputs": [
    {
     "name": "stdout",
     "output_type": "stream",
     "text": [
      "Using device: cpu\n"
     ]
    }
   ],
   "source": [
    "device = \"cuda:0\" if torch.cuda.is_available() else \"cpu\"\n",
    "print(f\"Using device: {device}\")"
   ]
  },
  {
   "cell_type": "code",
   "execution_count": 9,
   "metadata": {},
   "outputs": [],
   "source": [
    "API_KEY = os.getenv(\"API_KEY\")\n",
    "API_SECRET = os.getenv(\"API_SECRET\")\n",
    "BASE_URL = os.getenv(\"BASE_URL\")\n",
    "\n",
    "ALPACA_CREDS = {\n",
    "    \"API_KEY\": API_KEY,\n",
    "    \"API_SECRET\": API_SECRET,\n",
    "    \"PAPER\": True\n",
    "}"
   ]
  },
  {
   "cell_type": "code",
   "execution_count": 10,
   "metadata": {},
   "outputs": [
    {
     "name": "stdout",
     "output_type": "stream",
     "text": [
      "tensor(0.9979, grad_fn=<SelectBackward0>) negative\n",
      "False\n"
     ]
    }
   ],
   "source": [
    "tokenizer = AutoTokenizer.from_pretrained(\"ProsusAI/finbert\")\n",
    "model = AutoModelForSequenceClassification.from_pretrained(\"ProsusAI/finbert\").to(device)\n",
    "labels = [\"positive\", \"negative\", \"neutral\"]\n",
    "\n",
    "def estimate_sentiment(news):\n",
    "    if news:\n",
    "        tokens = tokenizer(news, return_tensors=\"pt\", padding=True).to(device)\n",
    "\n",
    "        result = model(tokens[\"input_ids\"], attention_mask=tokens[\"attention_mask\"])[\n",
    "            \"logits\"\n",
    "        ]\n",
    "        result = torch.nn.functional.softmax(torch.sum(result, 0), dim=-1)\n",
    "        probability = result[torch.argmax(result)]\n",
    "        sentiment = labels[torch.argmax(result)]\n",
    "        return probability, sentiment\n",
    "    else:\n",
    "        return 0, labels[-1]\n",
    "    \n",
    "if __name__ == \"__main__\":\n",
    "    tensor, sentiment = estimate_sentiment(['markets responded negatively to the news!','traders were displeased!'])\n",
    "    print(tensor, sentiment)\n",
    "    print(torch.cuda.is_available())"
   ]
  },
  {
   "cell_type": "code",
   "execution_count": 11,
   "metadata": {},
   "outputs": [],
   "source": [
    "class MLTrader(Strategy): \n",
    "    def initialize(self, symbol:str=\"SPY\", cash_at_risk:float=.5): \n",
    "        self.symbol = symbol\n",
    "        self.sleeptime = \"24H\" \n",
    "        self.last_trade = None \n",
    "        self.cash_at_risk = cash_at_risk\n",
    "        self.api = REST(base_url=BASE_URL, key_id=API_KEY, secret_key=API_SECRET)\n",
    "\n",
    "    def position_sizing(self): \n",
    "        cash = self.get_cash() \n",
    "        last_price = self.get_last_price(self.symbol)\n",
    "        quantity = round(cash * self.cash_at_risk / last_price,0)\n",
    "        return cash, last_price, quantity\n",
    "\n",
    "    def get_dates(self): \n",
    "        today = self.get_datetime()\n",
    "        three_days_prior = today - Timedelta(days=3)\n",
    "        return today.strftime('%Y-%m-%d'), three_days_prior.strftime('%Y-%m-%d')\n",
    "\n",
    "    def get_sentiment(self): \n",
    "        today, three_days_prior = self.get_dates()\n",
    "        news = self.api.get_news(symbol=self.symbol, \n",
    "                                 start=three_days_prior, \n",
    "                                 end=today) \n",
    "        news = [ev.__dict__[\"_raw\"][\"headline\"] for ev in news]\n",
    "        probability, sentiment = estimate_sentiment(news)\n",
    "        return probability, sentiment \n",
    "\n",
    "    def on_trading_iteration(self):\n",
    "        cash, last_price, quantity = self.position_sizing() \n",
    "        probability, sentiment = self.get_sentiment()\n",
    "\n",
    "        if cash > last_price: \n",
    "            if sentiment == \"positive\" and probability > .999: \n",
    "                if self.last_trade == \"sell\": \n",
    "                    self.sell_all() \n",
    "                order = self.create_order(\n",
    "                    self.symbol, \n",
    "                    quantity, \n",
    "                    \"buy\", \n",
    "                    type=\"bracket\", \n",
    "                    take_profit_price=last_price*1.20, \n",
    "                    stop_loss_price=last_price*.95\n",
    "                )\n",
    "                self.submit_order(order) \n",
    "                self.last_trade = \"buy\"\n",
    "            elif sentiment == \"negative\" and probability > .999: \n",
    "                if self.last_trade == \"buy\": \n",
    "                    self.sell_all() \n",
    "                order = self.create_order(\n",
    "                    self.symbol, \n",
    "                    quantity, \n",
    "                    \"sell\", \n",
    "                    type=\"bracket\", \n",
    "                    take_profit_price=last_price*.8, \n",
    "                    stop_loss_price=last_price*1.05\n",
    "                )\n",
    "                self.submit_order(order) \n",
    "                self.last_trade = \"sell\""
   ]
  },
  {
   "cell_type": "code",
   "execution_count": 12,
   "metadata": {},
   "outputs": [],
   "source": [
    "start_date = datetime(2023,11,1)\n",
    "end_date = datetime(2023,12,31) \n",
    "broker = Alpaca(ALPACA_CREDS) \n",
    "strategy = MLTrader(name='mlstrat', broker=broker, \n",
    "                    parameters={\"symbol\":\"SPY\", \n",
    "                                \"cash_at_risk\":.5})\n",
    "strategy.backtest(\n",
    "    YahooDataBacktesting, \n",
    "    start_date, \n",
    "    end_date, \n",
    "    parameters={\"symbol\":\"SPY\", \"cash_at_risk\":.5}\n",
    ")"
   ]
  },
  {
   "cell_type": "code",
   "execution_count": 13,
   "metadata": {},
   "outputs": [],
   "source": [
    "# trader = Trader()\n",
    "# trader.add_strategy(strategy)\n",
    "# trader.run_all()"
   ]
  }
 ],
 "metadata": {
  "kernelspec": {
   "display_name": "env",
   "language": "python",
   "name": "python3"
  },
  "language_info": {
   "codemirror_mode": {
    "name": "ipython",
    "version": 3
   },
   "file_extension": ".py",
   "mimetype": "text/x-python",
   "name": "python",
   "nbconvert_exporter": "python",
   "pygments_lexer": "ipython3",
   "version": "3.9.13"
  }
 },
 "nbformat": 4,
 "nbformat_minor": 2
}
