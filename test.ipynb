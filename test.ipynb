{
 "cells": [
  {
   "cell_type": "code",
   "execution_count": 1,
   "metadata": {},
   "outputs": [],
   "source": [
    "import os\n",
    "\n",
    "API_KEY = os.getenv(\"API_KEY\")\n",
    "API_SECRET = os.getenv(\"API_SECRET\")\n",
    "BASE_URL = os.getenv(\"BASE_URL\")\n",
    "\n",
    "ALPACA_CREDS = {\n",
    "    \"API_KEY\": API_KEY,\n",
    "    \"API_SECRET\": API_SECRET,\n",
    "    \"PAPER\": True\n",
    "}"
   ]
  },
  {
   "cell_type": "code",
   "execution_count": 2,
   "metadata": {},
   "outputs": [
    {
     "name": "stdout",
     "output_type": "stream",
     "text": [
      "API_KEY: PKIP4GBNAFJEDFB6KYMU\n",
      "API_SECRET: IFJLOWHexPObfQrX90mf0rfcbx2xJY4dBI6ZaP1V\n"
     ]
    }
   ],
   "source": [
    "print(f\"API_KEY: {API_KEY}\")\n",
    "print(f\"API_SECRET: {API_SECRET}\")"
   ]
  },
  {
   "cell_type": "code",
   "execution_count": 3,
   "metadata": {},
   "outputs": [],
   "source": [
    "from alpaca_trade_api import REST\n",
    "\n",
    "rest_client = REST(ALPACA_CREDS[\"API_KEY\"], ALPACA_CREDS[\"API_SECRET\"])\n",
    "news = rest_client.get_news(\"AAPL\", \"2021-01-01\", \"2021-12-31\")"
   ]
  },
  {
   "cell_type": "code",
   "execution_count": 4,
   "metadata": {},
   "outputs": [],
   "source": [
    "rest_client = REST(ALPACA_CREDS[\"API_KEY\"], ALPACA_CREDS[\"API_SECRET\"])"
   ]
  },
  {
   "cell_type": "code",
   "execution_count": 5,
   "metadata": {},
   "outputs": [
    {
     "data": {
      "text/plain": [
       "<alpaca_trade_api.rest.REST at 0x1f288016670>"
      ]
     },
     "execution_count": 5,
     "metadata": {},
     "output_type": "execute_result"
    }
   ],
   "source": [
    "rest_client"
   ]
  },
  {
   "cell_type": "code",
   "execution_count": null,
   "metadata": {},
   "outputs": [],
   "source": []
  }
 ],
 "metadata": {
  "kernelspec": {
   "display_name": "env",
   "language": "python",
   "name": "python3"
  },
  "language_info": {
   "codemirror_mode": {
    "name": "ipython",
    "version": 3
   },
   "file_extension": ".py",
   "mimetype": "text/x-python",
   "name": "python",
   "nbconvert_exporter": "python",
   "pygments_lexer": "ipython3",
   "version": "3.9.13"
  }
 },
 "nbformat": 4,
 "nbformat_minor": 2
}
